{
 "cells": [
  {
   "cell_type": "code",
   "execution_count": 1,
   "metadata": {},
   "outputs": [],
   "source": [
    "import torch \n",
    "import torch.nn as nn\n",
    "import torch.nn.functional as F\n",
    "from torch.utils.data import DataLoader, random_split\n",
    "import copy \n",
    "import math \n",
    "from utils import get_smi_list, replace_atom, get_dic, encode_smi, pad_smi, clones, parallel_f, pad, normalize, get_atom_pos, MyDataset, subsequent_mask\n",
    "from model import Encoder, Decoder, device\n",
    "from tqdm.auto import tqdm\n"
   ]
  },
  {
   "cell_type": "code",
   "execution_count": 2,
   "metadata": {},
   "outputs": [
    {
     "name": "stderr",
     "output_type": "stream",
     "text": [
      "[17:58:03] UFFTYPER: Unrecognized atom type: Ba (0)\n"
     ]
    }
   ],
   "source": [
    "smi_list = get_smi_list('data/ADAGRASIB_SMILES.txt')\n",
    "\n",
    "coor_list = parallel_f(get_atom_pos, smi_list)\n",
    "longest_coor = len(max(coor_list, key = len))\n",
    "coor_list = [pad(normalize(c), longest_coor) for c in coor_list]\n",
    "\n",
    "smi_list = [replace_atom(smi) for smi in smi_list]\n",
    "smi_dic = get_dic(smi_list)\n",
    "smint_list = [encode_smi(smi, smi_dic) for smi in smi_list]\n",
    "longest_smint = len(max(smint_list, key = len))\n",
    "smint_list = [pad_smi(smint, longest_smint, smi_dic) for smint in smint_list]"
   ]
  },
  {
   "cell_type": "code",
   "execution_count": 7,
   "metadata": {},
   "outputs": [],
   "source": [
    "BATCH_SIZE = 1\n",
    "dataset = MyDataset(smint_list, coor_list)\n",
    "train_set, val_set, test_set = random_split(dataset, [0.9, 0.05, 0.05])\n",
    "\n",
    "train_loader = DataLoader(train_set, batch_size = BATCH_SIZE, shuffle = True)\n",
    "val_loader = DataLoader(val_set, batch_size = BATCH_SIZE, shuffle = True)\n",
    "test_loader = DataLoader(test_set, batch_size = BATCH_SIZE, shuffle = True)"
   ]
  },
  {
   "cell_type": "code",
   "execution_count": 8,
   "metadata": {},
   "outputs": [
    {
     "name": "stdout",
     "output_type": "stream",
     "text": [
      "target: torch.Size([1, 22, 3]) tensor([[[ 0.0000,  0.0000,  0.0000],\n",
      "         [ 0.9806, -0.4204,  0.4636],\n",
      "         [ 2.1963, -0.9230,  1.0381],\n",
      "         [ 3.4562, -0.3958,  0.7856],\n",
      "         [ 4.2967, -1.1415,  1.5060],\n",
      "         [ 3.6827, -2.0901,  2.1890],\n",
      "         [ 2.3903, -1.9700,  1.9128],\n",
      "         [ 1.3577, -2.7630,  2.4119],\n",
      "         [ 1.4367, -4.0102,  2.6923],\n",
      "         [ 0.4177, -4.8152,  3.1904],\n",
      "         [ 0.6199, -5.5436,  4.4101],\n",
      "         [-0.8342, -4.9258,  2.4995],\n",
      "         [ 4.3631, -3.0116,  3.0299],\n",
      "         [ 5.3108, -3.8997,  2.5681],\n",
      "         [ 5.9518, -4.7824,  3.4141],\n",
      "         [ 5.6229, -4.7625,  4.7586],\n",
      "         [ 4.7032, -3.8921,  5.1723],\n",
      "         [ 4.0970, -3.0520,  4.3501],\n",
      "         [ 6.3576, -5.8246,  5.9342],\n",
      "         [ 0.0000,  0.0000,  0.0000],\n",
      "         [ 0.0000,  0.0000,  0.0000],\n",
      "         [ 0.0000,  0.0000,  0.0000]]])\n"
     ]
    }
   ],
   "source": [
    "for input, target in train_loader :\n",
    "    print(f'target: {target.shape} {target}')\n",
    "    break"
   ]
  },
  {
   "cell_type": "code",
   "execution_count": 4,
   "metadata": {},
   "outputs": [],
   "source": [
    "DIM_MODEL = 256 \n",
    "NUM_HEAD = 8\n",
    "NUM_LAYER = 2\n",
    "DROPOUT = 0.5\n",
    "\n",
    "encoder = Encoder(DIM_MODEL, NUM_HEAD, NUM_LAYER, DROPOUT, len(smi_dic)).to(device)\n",
    "decoder = Decoder(DIM_MODEL, NUM_HEAD, NUM_LAYER, DROPOUT, longest_coor).to(device)\n",
    "\n",
    "loss_fn = nn.L1Loss() \n",
    "e_optim = torch.optim.Adam(encoder.parameters(), lr = 0.001)\n",
    "d_optim = torch.optim.Adam(decoder.parameters(), lr = 0.001)"
   ]
  },
  {
   "cell_type": "code",
   "execution_count": 5,
   "metadata": {},
   "outputs": [
    {
     "data": {
      "application/vnd.jupyter.widget-view+json": {
       "model_id": "c7cd6a131fa24e66afd295f584491d11",
       "version_major": 2,
       "version_minor": 0
      },
      "text/plain": [
       "  0%|          | 0/1000 [00:00<?, ?it/s]"
      ]
     },
     "metadata": {},
     "output_type": "display_data"
    },
    {
     "name": "stdout",
     "output_type": "stream",
     "text": [
      "Epoch 1 -- Train Loss: 2.0469 -- Val Loss: 2.5649\n",
      "Epoch 2 -- Train Loss: 1.9935 -- Val Loss: 2.5419\n",
      "Epoch 3 -- Train Loss: 1.9762 -- Val Loss: 2.5204\n",
      "Epoch 4 -- Train Loss: 1.9601 -- Val Loss: 2.4994\n",
      "Epoch 5 -- Train Loss: 1.9455 -- Val Loss: 2.4745\n",
      "Epoch 6 -- Train Loss: 1.9310 -- Val Loss: 2.4629\n",
      "Epoch 7 -- Train Loss: 1.9169 -- Val Loss: 2.4419\n",
      "Epoch 8 -- Train Loss: 1.9027 -- Val Loss: 2.4288\n",
      "Epoch 9 -- Train Loss: 1.8891 -- Val Loss: 2.4180\n",
      "Epoch 10 -- Train Loss: 1.8760 -- Val Loss: 2.3994\n",
      "Epoch 11 -- Train Loss: 1.8626 -- Val Loss: 2.3850\n",
      "Epoch 12 -- Train Loss: 1.8501 -- Val Loss: 2.3712\n",
      "Epoch 13 -- Train Loss: 1.8405 -- Val Loss: 2.3738\n",
      "Epoch 14 -- Train Loss: 1.8267 -- Val Loss: 2.3576\n",
      "Epoch 15 -- Train Loss: 1.8146 -- Val Loss: 2.3517\n",
      "Epoch 16 -- Train Loss: 1.8033 -- Val Loss: 2.3221\n",
      "Epoch 17 -- Train Loss: 1.7933 -- Val Loss: 2.3321\n",
      "Epoch 18 -- Train Loss: 1.7819 -- Val Loss: 2.3313\n",
      "Epoch 19 -- Train Loss: 1.7718 -- Val Loss: 2.3228\n",
      "Epoch 20 -- Train Loss: 1.7618 -- Val Loss: 2.3147\n",
      "Epoch 21 -- Train Loss: 1.7536 -- Val Loss: 2.2889\n",
      "Epoch 22 -- Train Loss: 1.7451 -- Val Loss: 2.2997\n",
      "Epoch 23 -- Train Loss: 1.7348 -- Val Loss: 2.2832\n",
      "Epoch 24 -- Train Loss: 1.7258 -- Val Loss: 2.2860\n",
      "Epoch 25 -- Train Loss: 1.7170 -- Val Loss: 2.2922\n",
      "Epoch 26 -- Train Loss: 1.7076 -- Val Loss: 2.3044\n",
      "Epoch 27 -- Train Loss: 1.7067 -- Val Loss: 2.2834\n",
      "Epoch 28 -- Train Loss: 1.6939 -- Val Loss: 2.2921\n",
      "Epoch 29 -- Train Loss: 1.6857 -- Val Loss: 2.2858\n",
      "Epoch 30 -- Train Loss: 1.6767 -- Val Loss: 2.2984\n",
      "Epoch 31 -- Train Loss: 1.6681 -- Val Loss: 2.2881\n",
      "Epoch 32 -- Train Loss: 1.6617 -- Val Loss: 2.2785\n",
      "Epoch 33 -- Train Loss: 1.6521 -- Val Loss: 2.2789\n",
      "Epoch 34 -- Train Loss: 1.6482 -- Val Loss: 2.2902\n",
      "Epoch 35 -- Train Loss: 1.6398 -- Val Loss: 2.2806\n",
      "Epoch 36 -- Train Loss: 1.6343 -- Val Loss: 2.2733\n",
      "Epoch 37 -- Train Loss: 1.6285 -- Val Loss: 2.3044\n",
      "Epoch 38 -- Train Loss: 1.6288 -- Val Loss: 2.2718\n",
      "Epoch 39 -- Train Loss: 1.6199 -- Val Loss: 2.2806\n",
      "Epoch 40 -- Train Loss: 1.6094 -- Val Loss: 2.2601\n",
      "Epoch 41 -- Train Loss: 1.6002 -- Val Loss: 2.2622\n",
      "Epoch 42 -- Train Loss: 1.5948 -- Val Loss: 2.2699\n",
      "Epoch 43 -- Train Loss: 1.5906 -- Val Loss: 2.2716\n",
      "Epoch 44 -- Train Loss: 1.5842 -- Val Loss: 2.2877\n",
      "Epoch 45 -- Train Loss: 1.5800 -- Val Loss: 2.2660\n",
      "Epoch 46 -- Train Loss: 1.5712 -- Val Loss: 2.2833\n",
      "Epoch 47 -- Train Loss: 1.5652 -- Val Loss: 2.2686\n",
      "Epoch 48 -- Train Loss: 1.5617 -- Val Loss: 2.2877\n",
      "Epoch 49 -- Train Loss: 1.5563 -- Val Loss: 2.3081\n",
      "Epoch 50 -- Train Loss: 1.5505 -- Val Loss: 2.2749\n",
      "Epoch 51 -- Train Loss: 1.5540 -- Val Loss: 2.2729\n",
      "Epoch 52 -- Train Loss: 1.5573 -- Val Loss: 2.3457\n",
      "Epoch 53 -- Train Loss: 1.5537 -- Val Loss: 2.3321\n",
      "Epoch 54 -- Train Loss: 1.5506 -- Val Loss: 2.2988\n",
      "Epoch 55 -- Train Loss: 1.5495 -- Val Loss: 2.2883\n",
      "Epoch 56 -- Train Loss: 1.5452 -- Val Loss: 2.3146\n"
     ]
    },
    {
     "ename": "KeyboardInterrupt",
     "evalue": "",
     "output_type": "error",
     "traceback": [
      "\u001b[0;31m---------------------------------------------------------------------------\u001b[0m",
      "\u001b[0;31mKeyboardInterrupt\u001b[0m                         Traceback (most recent call last)",
      "Cell \u001b[0;32mIn [5], line 8\u001b[0m\n\u001b[1;32m      6\u001b[0m encoder\u001b[38;5;241m.\u001b[39mtrain(), decoder\u001b[38;5;241m.\u001b[39mtrain()\n\u001b[1;32m      7\u001b[0m \u001b[38;5;28;01mfor\u001b[39;00m \u001b[38;5;28minput\u001b[39m, target \u001b[38;5;129;01min\u001b[39;00m train_loader :\n\u001b[0;32m----> 8\u001b[0m     \u001b[38;5;28minput\u001b[39m, target \u001b[38;5;241m=\u001b[39m \u001b[38;5;28;43minput\u001b[39;49m\u001b[38;5;241;43m.\u001b[39;49m\u001b[43mto\u001b[49m\u001b[43m(\u001b[49m\u001b[43mdevice\u001b[49m\u001b[43m)\u001b[49m, target\u001b[38;5;241m.\u001b[39mto(device) \n\u001b[1;32m      9\u001b[0m     memory \u001b[38;5;241m=\u001b[39m encoder(\u001b[38;5;28minput\u001b[39m) \n\u001b[1;32m     10\u001b[0m     prediction, cross_attn \u001b[38;5;241m=\u001b[39m decoder(memory, target[:, :\u001b[38;5;241m-\u001b[39m\u001b[38;5;241m1\u001b[39m, :])\n",
      "\u001b[0;31mKeyboardInterrupt\u001b[0m: "
     ]
    }
   ],
   "source": [
    "NUM_EPOCHS = 1000\n",
    "\n",
    "for epoch in tqdm(range(1, NUM_EPOCHS +1), total=NUM_EPOCHS) : \n",
    "    train_loss = 0 \n",
    "    val_loss = 0\n",
    "    encoder.train(), decoder.train()\n",
    "    for input, target in train_loader :\n",
    "        input, target = input.to(device), target.to(device) \n",
    "        memory = encoder(input) \n",
    "        prediction, cross_attn = decoder(memory, target[:, :-1, :])\n",
    "\n",
    "        loss = loss_fn(prediction, target[:, 1:, :]) \n",
    "        train_loss += loss.item()\n",
    "        loss.backward()\n",
    "        e_optim.step(), d_optim.step()\n",
    "        e_optim.zero_grad(), d_optim.zero_grad() \n",
    "\n",
    "    encoder.eval(), decoder.eval()\n",
    "    with torch.no_grad() :\n",
    "        for input, target in val_loader :\n",
    "            input, target = input.to(device), target.to(device) \n",
    "            memory = encoder(input) \n",
    "            prediction, _ = decoder(memory)\n",
    "\n",
    "            loss = loss_fn(prediction, target[:, 1:, :]) \n",
    "            val_loss += loss.item()\n",
    "    print(f'Epoch {epoch} -- Train Loss: {train_loss / len(train_loader):.4f} -- Val Loss: {val_loss / len(val_loader):.4f}')"
   ]
  },
  {
   "cell_type": "code",
   "execution_count": null,
   "metadata": {},
   "outputs": [
    {
     "data": {
      "text/plain": [
       "torch.Size([1, 2])"
      ]
     },
     "execution_count": 6,
     "metadata": {},
     "output_type": "execute_result"
    }
   ],
   "source": [
    "a = torch.empty(1, 1)\n",
    "b = torch.randn(1, 1)\n",
    "c = torch.cat((a, b), dim = 1)\n",
    "c.shape"
   ]
  },
  {
   "cell_type": "code",
   "execution_count": null,
   "metadata": {},
   "outputs": [],
   "source": []
  }
 ],
 "metadata": {
  "kernelspec": {
   "display_name": "Python 3 (ipykernel)",
   "language": "python",
   "name": "python3"
  },
  "language_info": {
   "codemirror_mode": {
    "name": "ipython",
    "version": 3
   },
   "file_extension": ".py",
   "mimetype": "text/x-python",
   "name": "python",
   "nbconvert_exporter": "python",
   "pygments_lexer": "ipython3",
   "version": "3.10.4"
  }
 },
 "nbformat": 4,
 "nbformat_minor": 2
}
